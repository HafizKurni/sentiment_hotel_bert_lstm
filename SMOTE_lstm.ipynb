{
 "cells": [
  {
   "cell_type": "code",
   "execution_count": 14,
   "id": "2ade1ce2-8589-4147-a5de-3e318eac8d02",
   "metadata": {},
   "outputs": [],
   "source": [
    "import pandas as pd\n",
    "import numpy as np\n",
    "\n",
    "import tensorflow as tf\n",
    "from tensorflow.keras.preprocessing.text import Tokenizer\n",
    "from tensorflow.keras.preprocessing.sequence import pad_sequences\n",
    "from sklearn.model_selection import train_test_split\n",
    "from tensorflow.keras.models import Sequential\n",
    "from tensorflow.keras.layers import Embedding, LSTM, Dense, Input"
   ]
  },
  {
   "cell_type": "markdown",
   "id": "fe402c45-8f36-4fa1-a7ac-156914dedfbf",
   "metadata": {},
   "source": [
    "### Checking Dataset"
   ]
  },
  {
   "cell_type": "code",
   "execution_count": 15,
   "id": "5dc4c0d4-0ec3-4427-87f5-ff5ec8ac1a22",
   "metadata": {},
   "outputs": [
    {
     "data": {
      "text/html": [
       "<div>\n",
       "<style scoped>\n",
       "    .dataframe tbody tr th:only-of-type {\n",
       "        vertical-align: middle;\n",
       "    }\n",
       "\n",
       "    .dataframe tbody tr th {\n",
       "        vertical-align: top;\n",
       "    }\n",
       "\n",
       "    .dataframe thead th {\n",
       "        text-align: right;\n",
       "    }\n",
       "</style>\n",
       "<table border=\"1\" class=\"dataframe\">\n",
       "  <thead>\n",
       "    <tr style=\"text-align: right;\">\n",
       "      <th></th>\n",
       "      <th>Review</th>\n",
       "      <th>Rating</th>\n",
       "    </tr>\n",
       "  </thead>\n",
       "  <tbody>\n",
       "    <tr>\n",
       "      <th>0</th>\n",
       "      <td>nice hotel expensive parking got good deal sta...</td>\n",
       "      <td>4</td>\n",
       "    </tr>\n",
       "    <tr>\n",
       "      <th>1</th>\n",
       "      <td>ok nothing special charge diamond member hilto...</td>\n",
       "      <td>2</td>\n",
       "    </tr>\n",
       "    <tr>\n",
       "      <th>2</th>\n",
       "      <td>nice rooms not 4* experience hotel monaco seat...</td>\n",
       "      <td>3</td>\n",
       "    </tr>\n",
       "    <tr>\n",
       "      <th>3</th>\n",
       "      <td>unique, great stay, wonderful time hotel monac...</td>\n",
       "      <td>5</td>\n",
       "    </tr>\n",
       "    <tr>\n",
       "      <th>4</th>\n",
       "      <td>great stay great stay, went seahawk game aweso...</td>\n",
       "      <td>5</td>\n",
       "    </tr>\n",
       "  </tbody>\n",
       "</table>\n",
       "</div>"
      ],
      "text/plain": [
       "                                              Review  Rating\n",
       "0  nice hotel expensive parking got good deal sta...       4\n",
       "1  ok nothing special charge diamond member hilto...       2\n",
       "2  nice rooms not 4* experience hotel monaco seat...       3\n",
       "3  unique, great stay, wonderful time hotel monac...       5\n",
       "4  great stay great stay, went seahawk game aweso...       5"
      ]
     },
     "execution_count": 15,
     "metadata": {},
     "output_type": "execute_result"
    }
   ],
   "source": [
    "#Importing the dataset\n",
    "df = pd.read_csv(\"./tripadvisor_hotel_reviews.csv\")\n",
    "\n",
    "\n",
    "# look the data set\n",
    "df.head()"
   ]
  },
  {
   "cell_type": "code",
   "execution_count": 16,
   "id": "ba912b21-53b3-43bf-ab64-097af3e553b4",
   "metadata": {},
   "outputs": [
    {
     "data": {
      "text/plain": [
       "Review    0\n",
       "Rating    0\n",
       "dtype: int64"
      ]
     },
     "execution_count": 16,
     "metadata": {},
     "output_type": "execute_result"
    }
   ],
   "source": [
    "df.isna().sum()"
   ]
  },
  {
   "cell_type": "markdown",
   "id": "0c2d6b08-43a7-4db9-8ace-56f9c85f0c56",
   "metadata": {},
   "source": [
    "### Start Data Preprocessing"
   ]
  },
  {
   "cell_type": "code",
   "execution_count": 17,
   "id": "ae67abfb-4fb9-442a-9412-b6a7918d9387",
   "metadata": {},
   "outputs": [],
   "source": [
    "import re\n",
    "def text_preprocessing(a):\n",
    "  a = re.sub('[^a-zA-Z]',' ', a)\n",
    "  a = a.lower().split()\n",
    "  ps = PorterStemmer()\n",
    "  clean_word = [ps.stem(i) for i in a if not i in sw]\n",
    "  sen = ' '.join(clean_word)\n",
    "  return sen"
   ]
  },
  {
   "cell_type": "code",
   "execution_count": 6,
   "id": "ee61af11-a8bd-4adc-9676-f55fd3191aa0",
   "metadata": {},
   "outputs": [
    {
     "name": "stdout",
     "output_type": "stream",
     "text": [
      "Requirement already satisfied: nltk in ./.venv/lib/python3.10/site-packages (3.9.1)\n",
      "Requirement already satisfied: click in ./.venv/lib/python3.10/site-packages (from nltk) (8.1.8)\n",
      "Requirement already satisfied: joblib in ./.venv/lib/python3.10/site-packages (from nltk) (1.4.2)\n",
      "Requirement already satisfied: regex>=2021.8.3 in ./.venv/lib/python3.10/site-packages (from nltk) (2024.11.6)\n",
      "Requirement already satisfied: tqdm in ./.venv/lib/python3.10/site-packages (from nltk) (4.67.1)\n"
     ]
    }
   ],
   "source": [
    "!pip install nltk"
   ]
  },
  {
   "cell_type": "code",
   "execution_count": 18,
   "id": "d11a2477-16c1-41eb-a08f-eb42966d7c5e",
   "metadata": {},
   "outputs": [
    {
     "name": "stderr",
     "output_type": "stream",
     "text": [
      "[nltk_data] Downloading package stopwords to /Users/hafiz/nltk_data...\n",
      "[nltk_data]   Package stopwords is already up-to-date!\n"
     ]
    },
    {
     "data": {
      "text/plain": [
       "True"
      ]
     },
     "execution_count": 18,
     "metadata": {},
     "output_type": "execute_result"
    }
   ],
   "source": [
    "import nltk\n",
    "from nltk.corpus import stopwords\n",
    "from nltk.stem.porter import PorterStemmer\n",
    "import nltk\n",
    "import ssl\n",
    "\n",
    "try:\n",
    "    _create_unverified_https_context = ssl._create_unverified_context\n",
    "except AttributeError:\n",
    "    pass\n",
    "else:\n",
    "    ssl._create_default_https_context = _create_unverified_https_context\n",
    "\n",
    "nltk.download('stopwords')"
   ]
  },
  {
   "cell_type": "code",
   "execution_count": 19,
   "id": "5f144e3f-3ea2-4745-b1d0-0274c7a68fee",
   "metadata": {},
   "outputs": [],
   "source": [
    "sw = set(stopwords.words('english'))"
   ]
  },
  {
   "cell_type": "code",
   "execution_count": 20,
   "id": "e5c99b55-9d95-474d-8aa1-914f079fe793",
   "metadata": {},
   "outputs": [
    {
     "data": {
      "text/html": [
       "<div>\n",
       "<style scoped>\n",
       "    .dataframe tbody tr th:only-of-type {\n",
       "        vertical-align: middle;\n",
       "    }\n",
       "\n",
       "    .dataframe tbody tr th {\n",
       "        vertical-align: top;\n",
       "    }\n",
       "\n",
       "    .dataframe thead th {\n",
       "        text-align: right;\n",
       "    }\n",
       "</style>\n",
       "<table border=\"1\" class=\"dataframe\">\n",
       "  <thead>\n",
       "    <tr style=\"text-align: right;\">\n",
       "      <th></th>\n",
       "      <th>Review</th>\n",
       "      <th>Rating</th>\n",
       "      <th>clean_word</th>\n",
       "    </tr>\n",
       "  </thead>\n",
       "  <tbody>\n",
       "    <tr>\n",
       "      <th>0</th>\n",
       "      <td>nice hotel expensive parking got good deal sta...</td>\n",
       "      <td>4</td>\n",
       "      <td>nice hotel expens park got good deal stay hote...</td>\n",
       "    </tr>\n",
       "    <tr>\n",
       "      <th>1</th>\n",
       "      <td>ok nothing special charge diamond member hilto...</td>\n",
       "      <td>2</td>\n",
       "      <td>ok noth special charg diamond member hilton de...</td>\n",
       "    </tr>\n",
       "    <tr>\n",
       "      <th>2</th>\n",
       "      <td>nice rooms not 4* experience hotel monaco seat...</td>\n",
       "      <td>3</td>\n",
       "      <td>nice room experi hotel monaco seattl good hote...</td>\n",
       "    </tr>\n",
       "    <tr>\n",
       "      <th>3</th>\n",
       "      <td>unique, great stay, wonderful time hotel monac...</td>\n",
       "      <td>5</td>\n",
       "      <td>uniqu great stay wonder time hotel monaco loca...</td>\n",
       "    </tr>\n",
       "    <tr>\n",
       "      <th>4</th>\n",
       "      <td>great stay great stay, went seahawk game aweso...</td>\n",
       "      <td>5</td>\n",
       "      <td>great stay great stay went seahawk game awesom...</td>\n",
       "    </tr>\n",
       "  </tbody>\n",
       "</table>\n",
       "</div>"
      ],
      "text/plain": [
       "                                              Review  Rating  \\\n",
       "0  nice hotel expensive parking got good deal sta...       4   \n",
       "1  ok nothing special charge diamond member hilto...       2   \n",
       "2  nice rooms not 4* experience hotel monaco seat...       3   \n",
       "3  unique, great stay, wonderful time hotel monac...       5   \n",
       "4  great stay great stay, went seahawk game aweso...       5   \n",
       "\n",
       "                                          clean_word  \n",
       "0  nice hotel expens park got good deal stay hote...  \n",
       "1  ok noth special charg diamond member hilton de...  \n",
       "2  nice room experi hotel monaco seattl good hote...  \n",
       "3  uniqu great stay wonder time hotel monaco loca...  \n",
       "4  great stay great stay went seahawk game awesom...  "
      ]
     },
     "execution_count": 20,
     "metadata": {},
     "output_type": "execute_result"
    }
   ],
   "source": [
    "df['clean_word']=df[\"Review\"].apply(text_preprocessing)\n",
    "df.head()"
   ]
  },
  {
   "cell_type": "markdown",
   "id": "5a2e1f02-7301-417f-b598-018ada2ebd05",
   "metadata": {},
   "source": [
    "### Clean Dataset & 3 Label Class"
   ]
  },
  {
   "cell_type": "code",
   "execution_count": 21,
   "id": "421edb17-95a8-4273-9c0a-c734d0faa821",
   "metadata": {},
   "outputs": [
    {
     "data": {
      "text/html": [
       "<div>\n",
       "<style scoped>\n",
       "    .dataframe tbody tr th:only-of-type {\n",
       "        vertical-align: middle;\n",
       "    }\n",
       "\n",
       "    .dataframe tbody tr th {\n",
       "        vertical-align: top;\n",
       "    }\n",
       "\n",
       "    .dataframe thead th {\n",
       "        text-align: right;\n",
       "    }\n",
       "</style>\n",
       "<table border=\"1\" class=\"dataframe\">\n",
       "  <thead>\n",
       "    <tr style=\"text-align: right;\">\n",
       "      <th></th>\n",
       "      <th>clean_word</th>\n",
       "      <th>Rating</th>\n",
       "      <th>Sentiment</th>\n",
       "    </tr>\n",
       "  </thead>\n",
       "  <tbody>\n",
       "    <tr>\n",
       "      <th>0</th>\n",
       "      <td>nice hotel expens park got good deal stay hote...</td>\n",
       "      <td>4</td>\n",
       "      <td>2</td>\n",
       "    </tr>\n",
       "    <tr>\n",
       "      <th>1</th>\n",
       "      <td>ok noth special charg diamond member hilton de...</td>\n",
       "      <td>2</td>\n",
       "      <td>0</td>\n",
       "    </tr>\n",
       "    <tr>\n",
       "      <th>2</th>\n",
       "      <td>nice room experi hotel monaco seattl good hote...</td>\n",
       "      <td>3</td>\n",
       "      <td>1</td>\n",
       "    </tr>\n",
       "    <tr>\n",
       "      <th>3</th>\n",
       "      <td>uniqu great stay wonder time hotel monaco loca...</td>\n",
       "      <td>5</td>\n",
       "      <td>2</td>\n",
       "    </tr>\n",
       "    <tr>\n",
       "      <th>4</th>\n",
       "      <td>great stay great stay went seahawk game awesom...</td>\n",
       "      <td>5</td>\n",
       "      <td>2</td>\n",
       "    </tr>\n",
       "  </tbody>\n",
       "</table>\n",
       "</div>"
      ],
      "text/plain": [
       "                                          clean_word  Rating  Sentiment\n",
       "0  nice hotel expens park got good deal stay hote...       4          2\n",
       "1  ok noth special charg diamond member hilton de...       2          0\n",
       "2  nice room experi hotel monaco seattl good hote...       3          1\n",
       "3  uniqu great stay wonder time hotel monaco loca...       5          2\n",
       "4  great stay great stay went seahawk game awesom...       5          2"
      ]
     },
     "execution_count": 21,
     "metadata": {},
     "output_type": "execute_result"
    }
   ],
   "source": [
    "df = df[['clean_word', 'Rating']]\n",
    "\n",
    "# Ubah Rating menjadi kategori sentimen (misal: 1-2 = negatif, 3 = netral, 4-5 = positif)\n",
    "def categorize_sentiment(rating):\n",
    "    if rating <= 2:\n",
    "        return 0  # Negatif\n",
    "    elif rating == 3:\n",
    "        return 1  # Netral\n",
    "    else:\n",
    "        return 2  # Positif\n",
    "\n",
    "df['Sentiment'] = df['Rating'].apply(categorize_sentiment)\n",
    "df.head()"
   ]
  },
  {
   "cell_type": "code",
   "execution_count": 22,
   "id": "55107d2e-cb3f-4481-a8c2-821ac250f248",
   "metadata": {},
   "outputs": [
    {
     "name": "stdout",
     "output_type": "stream",
     "text": [
      "Jumlah data per kelas Sentiment:\n",
      "Negatif (0): 3214\n",
      "Netral (1): 2184\n",
      "Positif (2): 15093\n"
     ]
    },
    {
     "name": "stderr",
     "output_type": "stream",
     "text": [
      "/var/folders/47/p1nz1hvx16xb5gzw123rjhs00000gn/T/ipykernel_12711/3820776065.py:15: FutureWarning: \n",
      "\n",
      "Passing `palette` without assigning `hue` is deprecated and will be removed in v0.14.0. Assign the `x` variable to `hue` and set `legend=False` for the same effect.\n",
      "\n",
      "  sns.barplot(x=sentiment_counts.index, y=sentiment_counts.values, palette=\"viridis\")\n"
     ]
    },
    {
     "data": {
      "image/png": "[encoded data removed]",
      "text/plain": [
       "<Figure size 600x400 with 1 Axes>"
      ]
     },
     "metadata": {},
     "output_type": "display_data"
    }
   ],
   "source": [
    "import matplotlib.pyplot as plt\n",
    "import seaborn as sns\n",
    "\n",
    "# Hitung jumlah masing-masing Sentiment\n",
    "sentiment_counts = df['Sentiment'].value_counts().sort_index()\n",
    "\n",
    "# Cetak jumlah tiap kelas Sentiment\n",
    "print(\"Jumlah data per kelas Sentiment:\")\n",
    "for sentiment, count in sentiment_counts.items():\n",
    "    label = [\"Negatif\", \"Netral\", \"Positif\"][sentiment]  # Ubah angka ke label\n",
    "    print(f\"{label} ({sentiment}): {count}\")\n",
    "\n",
    "# Buat plot\n",
    "plt.figure(figsize=(6,4))\n",
    "sns.barplot(x=sentiment_counts.index, y=sentiment_counts.values, palette=\"viridis\")\n",
    "\n",
    "# Tambahkan label\n",
    "plt.xlabel(\"Sentiment\")\n",
    "plt.ylabel(\"Count\")\n",
    "plt.title(\"Distribusi Sentimen dalam Dataset\")\n",
    "plt.xticks(ticks=[0, 1, 2], labels=[\"Negatif\", \"Netral\", \"Positif\"])\n",
    "plt.show()\n"
   ]
  },
  {
   "cell_type": "code",
   "execution_count": 23,
   "id": "379468e3",
   "metadata": {},
   "outputs": [
    {
     "name": "stderr",
     "output_type": "stream",
     "text": [
      "/var/folders/47/p1nz1hvx16xb5gzw123rjhs00000gn/T/ipykernel_12711/3977804085.py:9: FutureWarning: \n",
      "\n",
      "Passing `palette` without assigning `hue` is deprecated and will be removed in v0.14.0. Assign the `x` variable to `hue` and set `legend=False` for the same effect.\n",
      "\n",
      "  sns.barplot(x=sentiment_counts.index, y=sentiment_counts.values, palette=\"viridis\")\n"
     ]
    },
    {
     "data": {
      "image/png": "[encoded data removed]",
      "text/plain": [
       "<Figure size 600x400 with 1 Axes>"
      ]
     },
     "metadata": {},
     "output_type": "display_data"
    }
   ],
   "source": [
    "import matplotlib.pyplot as plt\n",
    "import seaborn as sns\n",
    "\n",
    "# Hitung jumlah masing-masing Sentiment\n",
    "sentiment_counts = df['Rating'].value_counts().sort_index()\n",
    "\n",
    "# Buat plot\n",
    "plt.figure(figsize=(6,4))\n",
    "sns.barplot(x=sentiment_counts.index, y=sentiment_counts.values, palette=\"viridis\")\n",
    "\n",
    "# Tambahkan label\n",
    "plt.xlabel(\"Sentiment\")\n",
    "plt.ylabel(\"Count\")\n",
    "plt.title(\"Distribusi Sentimen dalam Dataset\")\n",
    "plt.xticks(ticks=[0, 1, 2, 3, 4], labels=[\"1\", \"2\", \"3\", \"4\", \"5\"])\n",
    "plt.show()\n"
   ]
  },
  {
   "cell_type": "code",
   "execution_count": 24,
   "id": "887570b9-d960-499d-87d9-7e2d0351c035",
   "metadata": {},
   "outputs": [],
   "source": [
    "X = df['clean_word'].values\n",
    "y = df['Sentiment'].values\n",
    "\n",
    "# Tokenisasi teks\n",
    "tokenizer = Tokenizer(num_words=5000, oov_token=\"<OOV>\")\n",
    "tokenizer.fit_on_texts(X)\n",
    "X_sequences = tokenizer.texts_to_sequences(X)\n",
    "X_padded = pad_sequences(X_sequences, maxlen=100, padding='post', truncating='post')\n",
    "\n",
    "# Split dataset\n",
    "X_train, X_test, y_train, y_test = train_test_split(X_padded, y, test_size=0.2, random_state=42)"
   ]
  },
  {
   "cell_type": "code",
   "execution_count": 29,
   "id": "af5ec7fa",
   "metadata": {},
   "outputs": [],
   "source": [
    "import numpy as np\n",
    "from sklearn.utils import resample\n",
    "\n",
    "# Gabungkan X dan y untuk kemudahan resampling\n",
    "Xy = np.hstack((X_train, y_train.reshape(-1, 1)))\n",
    "\n",
    "# Temukan jumlah terkecil dari tiap kelas\n",
    "unique_classes, counts = np.unique(y_train, return_counts=True)\n",
    "min_count = min(counts)\n",
    "\n",
    "# Undersample setiap kelas\n",
    "resampled_data = []\n",
    "\n",
    "for cls in unique_classes:\n",
    "    cls_data = Xy[Xy[:, -1] == cls]\n",
    "    cls_resampled = resample(cls_data,\n",
    "                              replace=False,\n",
    "                              n_samples=min_count,\n",
    "                              random_state=42)\n",
    "    resampled_data.append(cls_resampled)\n",
    "\n",
    "# Gabungkan semua data hasil undersampling\n",
    "balanced_data = np.vstack(resampled_data)\n",
    "np.random.shuffle(balanced_data)  # Acak ulang\n",
    "\n",
    "# Pisahkan kembali menjadi X dan y\n",
    "X_train = balanced_data[:, :-1]\n",
    "y_train = balanced_data[:, -1].astype(int)"
   ]
  },
  {
   "cell_type": "markdown",
   "id": "d3c9f505-2c23-4366-8b11-e3c558a41973",
   "metadata": {},
   "source": [
    "## LSTM Model"
   ]
  },
  {
   "cell_type": "code",
   "execution_count": 30,
   "id": "81d62f2e-947c-4413-9277-787622463264",
   "metadata": {},
   "outputs": [
    {
     "name": "stderr",
     "output_type": "stream",
     "text": [
      "2025-04-06 07:13:28.473611: I metal_plugin/src/device/metal_device.cc:1154] Metal device set to: Apple M1 Pro\n",
      "2025-04-06 07:13:28.474160: I metal_plugin/src/device/metal_device.cc:296] systemMemory: 16.00 GB\n",
      "2025-04-06 07:13:28.474166: I metal_plugin/src/device/metal_device.cc:313] maxCacheSize: 5.33 GB\n",
      "2025-04-06 07:13:28.474262: I tensorflow/core/common_runtime/pluggable_device/pluggable_device_factory.cc:305] Could not identify NUMA node of platform GPU ID 0, defaulting to 0. Your kernel may not have been built with NUMA support.\n",
      "2025-04-06 07:13:28.474648: I tensorflow/core/common_runtime/pluggable_device/pluggable_device_factory.cc:271] Created TensorFlow device (/job:localhost/replica:0/task:0/device:GPU:0 with 0 MB memory) -> physical PluggableDevice (device: 0, name: METAL, pci bus id: <undefined>)\n"
     ]
    }
   ],
   "source": [
    "model_lstm = Sequential([\n",
    "    Input(shape=(100,)),\n",
    "    Embedding(input_dim=5000, output_dim=64, ),\n",
    "    LSTM(128, return_sequences=True),\n",
    "    LSTM(64),\n",
    "    Dense(32, activation='relu'),\n",
    "    Dense(3, activation='softmax')  # 3 kelas: Negatif, Netral, Positif\n",
    "])"
   ]
  },
  {
   "cell_type": "code",
   "execution_count": 36,
   "id": "2523e508-f7c8-46e7-a6e9-d151ac9177eb",
   "metadata": {},
   "outputs": [
    {
     "name": "stdout",
     "output_type": "stream",
     "text": [
      "Epoch 1/20\n",
      "\u001b[1m165/165\u001b[0m \u001b[32m━━━━━━━━━━━━━━━━━━━━\u001b[0m\u001b[37m\u001b[0m \u001b[1m10s\u001b[0m 48ms/step - accuracy: 0.6612 - loss: 0.7478 - val_accuracy: 0.6516 - val_loss: 0.7972\n",
      "Epoch 2/20\n",
      "\u001b[1m165/165\u001b[0m \u001b[32m━━━━━━━━━━━━━━━━━━━━\u001b[0m\u001b[37m\u001b[0m \u001b[1m8s\u001b[0m 45ms/step - accuracy: 0.6895 - loss: 0.7033 - val_accuracy: 0.7536 - val_loss: 0.7171\n",
      "Epoch 3/20\n",
      "\u001b[1m165/165\u001b[0m \u001b[32m━━━━━━━━━━━━━━━━━━━━\u001b[0m\u001b[37m\u001b[0m \u001b[1m8s\u001b[0m 46ms/step - accuracy: 0.7475 - loss: 0.5989 - val_accuracy: 0.7917 - val_loss: 0.5775\n",
      "Epoch 4/20\n",
      "\u001b[1m165/165\u001b[0m \u001b[32m━━━━━━━━━━━━━━━━━━━━\u001b[0m\u001b[37m\u001b[0m \u001b[1m7s\u001b[0m 45ms/step - accuracy: 0.7462 - loss: 0.6159 - val_accuracy: 0.6838 - val_loss: 0.7804\n",
      "Epoch 5/20\n",
      "\u001b[1m165/165\u001b[0m \u001b[32m━━━━━━━━━━━━━━━━━━━━\u001b[0m\u001b[37m\u001b[0m \u001b[1m7s\u001b[0m 45ms/step - accuracy: 0.8129 - loss: 0.4948 - val_accuracy: 0.6692 - val_loss: 0.8413\n",
      "Epoch 6/20\n",
      "\u001b[1m165/165\u001b[0m \u001b[32m━━━━━━━━━━━━━━━━━━━━\u001b[0m\u001b[37m\u001b[0m \u001b[1m8s\u001b[0m 46ms/step - accuracy: 0.8529 - loss: 0.4148 - val_accuracy: 0.7060 - val_loss: 0.8058\n",
      "Epoch 7/20\n",
      "\u001b[1m165/165\u001b[0m \u001b[32m━━━━━━━━━━━━━━━━━━━━\u001b[0m\u001b[37m\u001b[0m \u001b[1m8s\u001b[0m 45ms/step - accuracy: 0.8810 - loss: 0.3625 - val_accuracy: 0.6804 - val_loss: 0.9172\n",
      "Epoch 8/20\n",
      "\u001b[1m165/165\u001b[0m \u001b[32m━━━━━━━━━━━━━━━━━━━━\u001b[0m\u001b[37m\u001b[0m \u001b[1m8s\u001b[0m 46ms/step - accuracy: 0.8770 - loss: 0.3622 - val_accuracy: 0.6921 - val_loss: 0.8420\n",
      "Epoch 9/20\n",
      "\u001b[1m165/165\u001b[0m \u001b[32m━━━━━━━━━━━━━━━━━━━━\u001b[0m\u001b[37m\u001b[0m \u001b[1m7s\u001b[0m 45ms/step - accuracy: 0.8892 - loss: 0.3333 - val_accuracy: 0.6914 - val_loss: 0.9947\n",
      "Epoch 10/20\n",
      "\u001b[1m165/165\u001b[0m \u001b[32m━━━━━━━━━━━━━━━━━━━━\u001b[0m\u001b[37m\u001b[0m \u001b[1m7s\u001b[0m 45ms/step - accuracy: 0.9270 - loss: 0.2636 - val_accuracy: 0.6477 - val_loss: 1.1946\n",
      "Epoch 11/20\n",
      "\u001b[1m165/165\u001b[0m \u001b[32m━━━━━━━━━━━━━━━━━━━━\u001b[0m\u001b[37m\u001b[0m \u001b[1m7s\u001b[0m 45ms/step - accuracy: 0.9211 - loss: 0.2619 - val_accuracy: 0.6409 - val_loss: 1.2906\n",
      "Epoch 12/20\n",
      "\u001b[1m165/165\u001b[0m \u001b[32m━━━━━━━━━━━━━━━━━━━━\u001b[0m\u001b[37m\u001b[0m \u001b[1m8s\u001b[0m 46ms/step - accuracy: 0.9347 - loss: 0.2324 - val_accuracy: 0.7158 - val_loss: 0.9466\n",
      "Epoch 13/20\n",
      "\u001b[1m165/165\u001b[0m \u001b[32m━━━━━━━━━━━━━━━━━━━━\u001b[0m\u001b[37m\u001b[0m \u001b[1m7s\u001b[0m 45ms/step - accuracy: 0.9273 - loss: 0.2478 - val_accuracy: 0.6880 - val_loss: 1.0620\n",
      "Epoch 14/20\n",
      "\u001b[1m165/165\u001b[0m \u001b[32m━━━━━━━━━━━━━━━━━━━━\u001b[0m\u001b[37m\u001b[0m \u001b[1m8s\u001b[0m 46ms/step - accuracy: 0.9446 - loss: 0.2005 - val_accuracy: 0.7426 - val_loss: 0.9412\n",
      "Epoch 15/20\n",
      "\u001b[1m165/165\u001b[0m \u001b[32m━━━━━━━━━━━━━━━━━━━━\u001b[0m\u001b[37m\u001b[0m \u001b[1m8s\u001b[0m 48ms/step - accuracy: 0.9447 - loss: 0.1986 - val_accuracy: 0.6789 - val_loss: 1.1854\n",
      "Epoch 16/20\n",
      "\u001b[1m165/165\u001b[0m \u001b[32m━━━━━━━━━━━━━━━━━━━━\u001b[0m\u001b[37m\u001b[0m \u001b[1m7s\u001b[0m 45ms/step - accuracy: 0.9468 - loss: 0.1987 - val_accuracy: 0.7031 - val_loss: 1.2159\n",
      "Epoch 17/20\n",
      "\u001b[1m165/165\u001b[0m \u001b[32m━━━━━━━━━━━━━━━━━━━━\u001b[0m\u001b[37m\u001b[0m \u001b[1m8s\u001b[0m 46ms/step - accuracy: 0.9616 - loss: 0.1536 - val_accuracy: 0.7099 - val_loss: 1.3040\n",
      "Epoch 18/20\n",
      "\u001b[1m165/165\u001b[0m \u001b[32m━━━━━━━━━━━━━━━━━━━━\u001b[0m\u001b[37m\u001b[0m \u001b[1m8s\u001b[0m 46ms/step - accuracy: 0.9573 - loss: 0.1717 - val_accuracy: 0.6877 - val_loss: 1.2758\n",
      "Epoch 19/20\n",
      "\u001b[1m165/165\u001b[0m \u001b[32m━━━━━━━━━━━━━━━━━━━━\u001b[0m\u001b[37m\u001b[0m \u001b[1m8s\u001b[0m 46ms/step - accuracy: 0.9701 - loss: 0.1306 - val_accuracy: 0.6726 - val_loss: 1.5536\n",
      "Epoch 20/20\n",
      "\u001b[1m165/165\u001b[0m \u001b[32m━━━━━━━━━━━━━━━━━━━━\u001b[0m\u001b[37m\u001b[0m \u001b[1m8s\u001b[0m 46ms/step - accuracy: 0.9714 - loss: 0.1347 - val_accuracy: 0.6672 - val_loss: 1.5587\n"
     ]
    },
    {
     "data": {
      "text/plain": [
       "<keras.src.callbacks.history.History at 0x34a035c90>"
      ]
     },
     "execution_count": 36,
     "metadata": {},
     "output_type": "execute_result"
    }
   ],
   "source": [
    "# Compile model\n",
    "model_lstm.compile(loss='sparse_categorical_crossentropy', optimizer='adam', metrics=['accuracy'])\n",
    "\n",
    "# Train model dengan dataset yang sudah di-split\n",
    "model_lstm.fit(X_train, y_train, epochs=20, batch_size=32, validation_data=(X_test, y_test))"
   ]
  },
  {
   "cell_type": "code",
   "execution_count": 37,
   "id": "e37c8cc4-677a-41c4-986b-dc845ae4f9cf",
   "metadata": {},
   "outputs": [
    {
     "name": "stdout",
     "output_type": "stream",
     "text": [
      "\u001b[1m129/129\u001b[0m \u001b[32m━━━━━━━━━━━━━━━━━━━━\u001b[0m\u001b[37m\u001b[0m \u001b[1m2s\u001b[0m 13ms/step\n",
      "              precision    recall  f1-score   support\n",
      "\n",
      "     Negatif       0.64      0.64      0.64       625\n",
      "      Netral       0.20      0.59      0.29       432\n",
      "     Positif       0.96      0.69      0.80      3042\n",
      "\n",
      "    accuracy                           0.67      4099\n",
      "   macro avg       0.60      0.64      0.58      4099\n",
      "weighted avg       0.83      0.67      0.72      4099\n",
      "\n"
     ]
    }
   ],
   "source": [
    "from sklearn.metrics import classification_report\n",
    "\n",
    "# Prediksi pada data uji\n",
    "y_pred = model_lstm.predict(X_test)\n",
    "y_pred_classes = y_pred.argmax(axis=1)  # Ambil kelas dengan probabilitas tertinggi\n",
    "\n",
    "# Tampilkan classification report\n",
    "print(classification_report(y_test, y_pred_classes, target_names=[\"Negatif\", \"Netral\", \"Positif\"]))"
   ]
  },
  {
   "cell_type": "code",
   "execution_count": 41,
   "id": "f8c96d03-be13-435b-b18c-94bb015df677",
   "metadata": {},
   "outputs": [
    {
     "data": {
      "image/png": "[encoded data removed]",
      "text/plain": [
       "<Figure size 600x500 with 2 Axes>"
      ]
     },
     "metadata": {},
     "output_type": "display_data"
    }
   ],
   "source": [
    "import seaborn as sns\n",
    "import matplotlib.pyplot as plt\n",
    "from sklearn.metrics import confusion_matrix\n",
    "\n",
    "# Buat confusion matrix\n",
    "cm = confusion_matrix(y_test, y_pred_classes)\n",
    "\n",
    "# Visualisasi dengan heatmap\n",
    "plt.figure(figsize=(6,5))\n",
    "sns.heatmap(cm, annot=True, fmt=\"d\", cmap=\"Blues\", xticklabels=[\"Negatif\", \"Netral\", \"Positif\"], yticklabels=[\"Negatif\", \"Netral\", \"Positif\"])\n",
    "plt.xlabel(\"Predicted\")\n",
    "plt.ylabel(\"Actual\")\n",
    "plt.title(\"Confusion Matrix LSTM Model (Undersampling)\")\n",
    "plt.show()"
   ]
  },
  {
   "cell_type": "code",
   "execution_count": 39,
   "id": "6abb5f04-de12-44ad-ab32-1aa6cda5802f",
   "metadata": {},
   "outputs": [
    {
     "name": "stdout",
     "output_type": "stream",
     "text": [
      "\u001b[1m129/129\u001b[0m \u001b[32m━━━━━━━━━━━━━━━━━━━━\u001b[0m\u001b[37m\u001b[0m \u001b[1m2s\u001b[0m 16ms/step - accuracy: 0.6764 - loss: 1.4825\n",
      "Model Test Accuracy: 0.6672\n"
     ]
    }
   ],
   "source": [
    "loss, accuracy = model_lstm.evaluate(X_test, y_test)\n",
    "print(f\"Model Test Accuracy: {accuracy:.4f}\")"
   ]
  }
 ],
 "metadata": {
  "kernelspec": {
   "display_name": ".venv",
   "language": "python",
   "name": "python3"
  },
  "language_info": {
   "codemirror_mode": {
    "name": "ipython",
    "version": 3
   },
   "file_extension": ".py",
   "mimetype": "text/x-python",
   "name": "python",
   "nbconvert_exporter": "python",
   "pygments_lexer": "ipython3",
   "version": "3.10.10"
  }
 },
 "nbformat": 4,
 "nbformat_minor": 5
}
